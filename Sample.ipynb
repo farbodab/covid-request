{
 "cells": [
  {
   "cell_type": "code",
   "execution_count": 3,
   "id": "81a50bd1-e2d7-428d-adb4-9fc2fb6c7a24",
   "metadata": {},
   "outputs": [
    {
     "name": "stdout",
     "output_type": "stream",
     "text": [
      "Hello AI4PH\n"
     ]
    }
   ],
   "source": [
    "print(\"Hello AI4PH\")"
   ]
  },
  {
   "cell_type": "code",
   "execution_count": 2,
   "id": "44bb9f4e-cffd-45bd-9d3d-3540a2a826be",
   "metadata": {},
   "outputs": [
    {
     "name": "stdout",
     "output_type": "stream",
     "text": [
      "Hello To Others\n"
     ]
    }
   ],
   "source": [
    "print(\"Hello To Others\")"
   ]
  },
  {
   "cell_type": "code",
   "execution_count": 6,
   "id": "0d2439dd-f955-4007-8a01-59f3c568fa05",
   "metadata": {},
   "outputs": [],
   "source": [
    "import requests\n",
    "\n",
    "url = \"https://data.ontario.ca/dataset/f4112442-bdc8-45d2-be3c-12efae72fb27/resource/455fd63b-603d-4608-8216-7d8647f43350/download/conposcovidloc.csv\"\n",
    "filename = 'conposcovidloc.csv'\n",
    "headers = {'User-Agent': 'Mozilla/5.0 (Macintosh; Intel Mac OS X 10_10_1) AppleWebKit/537.36 (KHTML, like Gecko) Chrome/39.0.2171.95 Safari/537.36'}\n",
    "response = requests.get(url, headers=headers)"
   ]
  },
  {
   "cell_type": "code",
   "execution_count": 8,
   "id": "66b7c6f6-0c5b-4453-a17c-487dff76e314",
   "metadata": {},
   "outputs": [],
   "source": [
    "filename = 'data.csv'\n",
    "with open(filename, mode=\"wb\") as file:\n",
    "    file.write(response.content)"
   ]
  },
  {
   "cell_type": "code",
   "execution_count": null,
   "id": "4245c509-b205-47d6-a9a6-e1e83a2033db",
   "metadata": {},
   "outputs": [],
   "source": []
  }
 ],
 "metadata": {
  "kernelspec": {
   "display_name": "Python 3 (ipykernel)",
   "language": "python",
   "name": "python3"
  },
  "language_info": {
   "codemirror_mode": {
    "name": "ipython",
    "version": 3
   },
   "file_extension": ".py",
   "mimetype": "text/x-python",
   "name": "python",
   "nbconvert_exporter": "python",
   "pygments_lexer": "ipython3",
   "version": "3.10.10"
  }
 },
 "nbformat": 4,
 "nbformat_minor": 5
}
